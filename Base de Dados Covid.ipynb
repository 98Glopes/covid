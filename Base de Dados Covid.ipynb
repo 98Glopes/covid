{
 "cells": [
  {
   "cell_type": "code",
   "execution_count": 133,
   "metadata": {},
   "outputs": [],
   "source": [
    "import pandas as pd\n",
    "import datetime as dt"
   ]
  },
  {
   "cell_type": "code",
   "execution_count": 31,
   "metadata": {},
   "outputs": [],
   "source": [
    "df = pd.read_csv(\"~/Downloads/COVID-2020.csv\")"
   ]
  },
  {
   "cell_type": "code",
   "execution_count": 67,
   "metadata": {},
   "outputs": [
    {
     "data": {
      "text/html": [
       "<div>\n",
       "<style scoped>\n",
       "    .dataframe tbody tr th:only-of-type {\n",
       "        vertical-align: middle;\n",
       "    }\n",
       "\n",
       "    .dataframe tbody tr th {\n",
       "        vertical-align: top;\n",
       "    }\n",
       "\n",
       "    .dataframe thead th {\n",
       "        text-align: right;\n",
       "    }\n",
       "</style>\n",
       "<table border=\"1\" class=\"dataframe\">\n",
       "  <thead>\n",
       "    <tr style=\"text-align: right;\">\n",
       "      <th></th>\n",
       "      <th>uf</th>\n",
       "      <th>tipo_doenca</th>\n",
       "      <th>local_obito</th>\n",
       "      <th>faixa_etaria</th>\n",
       "      <th>sexo</th>\n",
       "      <th>total</th>\n",
       "    </tr>\n",
       "  </thead>\n",
       "  <tbody>\n",
       "    <tr>\n",
       "      <th>9</th>\n",
       "      <td>AC</td>\n",
       "      <td>COVID</td>\n",
       "      <td>HOSPITAL</td>\n",
       "      <td>&lt; 9</td>\n",
       "      <td>M</td>\n",
       "      <td>5</td>\n",
       "    </tr>\n",
       "    <tr>\n",
       "      <th>31</th>\n",
       "      <td>AL</td>\n",
       "      <td>COVID</td>\n",
       "      <td>HOSPITAL</td>\n",
       "      <td>&lt; 9</td>\n",
       "      <td>F</td>\n",
       "      <td>7</td>\n",
       "    </tr>\n",
       "  </tbody>\n",
       "</table>\n",
       "</div>"
      ],
      "text/plain": [
       "    uf tipo_doenca local_obito faixa_etaria sexo  total\n",
       "9   AC       COVID    HOSPITAL          < 9    M      5\n",
       "31  AL       COVID    HOSPITAL          < 9    F      7"
      ]
     },
     "execution_count": 67,
     "metadata": {},
     "output_type": "execute_result"
    }
   ],
   "source": [
    "covid = df[df['tipo_doenca'] == 'COVID']\n",
    "covid.head(2)"
   ]
  },
  {
   "cell_type": "code",
   "execution_count": 68,
   "metadata": {},
   "outputs": [],
   "source": [
    "# group the data by state and gender\n",
    "\n",
    "states = covid.groupby(by=['uf', 'faixa_etaria', 'sexo']).sum()\n",
    "\n",
    "# Verify if the number of \n",
    "assert states['total'].sum() == covid['total'].sum()"
   ]
  },
  {
   "cell_type": "code",
   "execution_count": 123,
   "metadata": {},
   "outputs": [],
   "source": [
    "# group by local_obito\n",
    "# Relplace local obito to sumarize the data\n",
    "\n",
    "possible_places = {\n",
    "    'AMBULANCIA': 'Ambulancia',\n",
    "    'DOMICILIO': 'Domicilio',\n",
    "    'HOSPITAL': 'Hospital',\n",
    "    'IGNORADO': 'Nao Informado',\n",
    "    'OUTRO': 'Outros',\n",
    "    'OUTROS_SERVICOS_SAUDE': 'Outros',\n",
    "    'POSTO_SAUDE': 'Hospital',\n",
    "    'SAMU': 'Outros',\n",
    "    'VIA_PUBLICA': 'Outros',\n",
    "    \n",
    "}\n",
    "# covid['local_obito'] = covid['local_obito'].apply(lambda x: possible_places[x]) \n",
    "\n",
    "places = covid.groupby(by=['local_obito']).sum()\n",
    "# places['total'] = places.loc['total'].sum()\n",
    "assert places['total'].sum() == covid['total'].sum()"
   ]
  },
  {
   "cell_type": "code",
   "execution_count": 85,
   "metadata": {},
   "outputs": [],
   "source": [
    "gender = states.groupby('sexo').sum().T\n",
    "gender['total'] = gender.loc['total'].sum()\n",
    "assert gender['total'].sum() == covid['total'].sum()"
   ]
  },
  {
   "cell_type": "code",
   "execution_count": null,
   "metadata": {},
   "outputs": [],
   "source": [
    "age = states.groupby('faixa_etaria').sum().T\n",
    "age['total'] = age.loc['total'].sum()\n",
    "assert age['total'].sum() == covid['total'].sum()"
   ]
  },
  {
   "cell_type": "code",
   "execution_count": 98,
   "metadata": {},
   "outputs": [],
   "source": [
    "# Sumarize the data by other diseases\n",
    "diseases = df.groupby('tipo_doenca').sum().T"
   ]
  },
  {
   "cell_type": "code",
   "execution_count": 99,
   "metadata": {},
   "outputs": [
    {
     "data": {
      "text/html": [
       "<div>\n",
       "<style scoped>\n",
       "    .dataframe tbody tr th:only-of-type {\n",
       "        vertical-align: middle;\n",
       "    }\n",
       "\n",
       "    .dataframe tbody tr th {\n",
       "        vertical-align: top;\n",
       "    }\n",
       "\n",
       "    .dataframe thead th {\n",
       "        text-align: right;\n",
       "    }\n",
       "</style>\n",
       "<table border=\"1\" class=\"dataframe\">\n",
       "  <thead>\n",
       "    <tr style=\"text-align: right;\">\n",
       "      <th>tipo_doenca</th>\n",
       "      <th>COVID</th>\n",
       "      <th>INDETERMINADA</th>\n",
       "      <th>INSUFICIENCIA_RESPIRATORIA</th>\n",
       "      <th>OUTRAS</th>\n",
       "      <th>PNEUMONIA</th>\n",
       "      <th>SEPTICEMIA</th>\n",
       "      <th>SRAG</th>\n",
       "    </tr>\n",
       "  </thead>\n",
       "  <tbody>\n",
       "    <tr>\n",
       "      <th>total</th>\n",
       "      <td>103288</td>\n",
       "      <td>5737</td>\n",
       "      <td>61388</td>\n",
       "      <td>414504</td>\n",
       "      <td>114518</td>\n",
       "      <td>97430</td>\n",
       "      <td>11744</td>\n",
       "    </tr>\n",
       "  </tbody>\n",
       "</table>\n",
       "</div>"
      ],
      "text/plain": [
       "tipo_doenca   COVID  INDETERMINADA  INSUFICIENCIA_RESPIRATORIA  OUTRAS  \\\n",
       "total        103288           5737                       61388  414504   \n",
       "\n",
       "tipo_doenca  PNEUMONIA  SEPTICEMIA   SRAG  \n",
       "total           114518       97430  11744  "
      ]
     },
     "execution_count": 99,
     "metadata": {},
     "output_type": "execute_result"
    }
   ],
   "source": [
    "diseases.head(1)"
   ]
  },
  {
   "cell_type": "code",
   "execution_count": 100,
   "metadata": {},
   "outputs": [
    {
     "data": {
      "text/html": [
       "<div>\n",
       "<style scoped>\n",
       "    .dataframe tbody tr th:only-of-type {\n",
       "        vertical-align: middle;\n",
       "    }\n",
       "\n",
       "    .dataframe tbody tr th {\n",
       "        vertical-align: top;\n",
       "    }\n",
       "\n",
       "    .dataframe thead th {\n",
       "        text-align: right;\n",
       "    }\n",
       "</style>\n",
       "<table border=\"1\" class=\"dataframe\">\n",
       "  <thead>\n",
       "    <tr style=\"text-align: right;\">\n",
       "      <th></th>\n",
       "      <th></th>\n",
       "      <th></th>\n",
       "      <th>total</th>\n",
       "    </tr>\n",
       "    <tr>\n",
       "      <th>uf</th>\n",
       "      <th>faixa_etaria</th>\n",
       "      <th>sexo</th>\n",
       "      <th></th>\n",
       "    </tr>\n",
       "  </thead>\n",
       "  <tbody>\n",
       "    <tr>\n",
       "      <th>AC</th>\n",
       "      <th>10 - 19</th>\n",
       "      <th>F</th>\n",
       "      <td>3</td>\n",
       "    </tr>\n",
       "  </tbody>\n",
       "</table>\n",
       "</div>"
      ],
      "text/plain": [
       "                      total\n",
       "uf faixa_etaria sexo       \n",
       "AC 10 - 19      F         3"
      ]
     },
     "execution_count": 100,
     "metadata": {},
     "output_type": "execute_result"
    }
   ],
   "source": [
    "states.head(1)"
   ]
  },
  {
   "cell_type": "code",
   "execution_count": 124,
   "metadata": {},
   "outputs": [
    {
     "data": {
      "text/html": [
       "<div>\n",
       "<style scoped>\n",
       "    .dataframe tbody tr th:only-of-type {\n",
       "        vertical-align: middle;\n",
       "    }\n",
       "\n",
       "    .dataframe tbody tr th {\n",
       "        vertical-align: top;\n",
       "    }\n",
       "\n",
       "    .dataframe thead th {\n",
       "        text-align: right;\n",
       "    }\n",
       "</style>\n",
       "<table border=\"1\" class=\"dataframe\">\n",
       "  <thead>\n",
       "    <tr style=\"text-align: right;\">\n",
       "      <th></th>\n",
       "      <th>total</th>\n",
       "    </tr>\n",
       "    <tr>\n",
       "      <th>local_obito</th>\n",
       "      <th></th>\n",
       "    </tr>\n",
       "  </thead>\n",
       "  <tbody>\n",
       "    <tr>\n",
       "      <th>Ambulancia</th>\n",
       "      <td>8</td>\n",
       "    </tr>\n",
       "  </tbody>\n",
       "</table>\n",
       "</div>"
      ],
      "text/plain": [
       "             total\n",
       "local_obito       \n",
       "Ambulancia       8"
      ]
     },
     "execution_count": 124,
     "metadata": {},
     "output_type": "execute_result"
    }
   ],
   "source": [
    "places.head(1)"
   ]
  },
  {
   "cell_type": "code",
   "execution_count": 102,
   "metadata": {},
   "outputs": [
    {
     "data": {
      "text/html": [
       "<div>\n",
       "<style scoped>\n",
       "    .dataframe tbody tr th:only-of-type {\n",
       "        vertical-align: middle;\n",
       "    }\n",
       "\n",
       "    .dataframe tbody tr th {\n",
       "        vertical-align: top;\n",
       "    }\n",
       "\n",
       "    .dataframe thead th {\n",
       "        text-align: right;\n",
       "    }\n",
       "</style>\n",
       "<table border=\"1\" class=\"dataframe\">\n",
       "  <thead>\n",
       "    <tr style=\"text-align: right;\">\n",
       "      <th>sexo</th>\n",
       "      <th>F</th>\n",
       "      <th>I</th>\n",
       "      <th>M</th>\n",
       "      <th>total</th>\n",
       "    </tr>\n",
       "  </thead>\n",
       "  <tbody>\n",
       "    <tr>\n",
       "      <th>total</th>\n",
       "      <td>43447</td>\n",
       "      <td>32</td>\n",
       "      <td>59809</td>\n",
       "      <td>103288</td>\n",
       "    </tr>\n",
       "  </tbody>\n",
       "</table>\n",
       "</div>"
      ],
      "text/plain": [
       "sexo       F   I      M   total\n",
       "total  43447  32  59809  103288"
      ]
     },
     "execution_count": 102,
     "metadata": {},
     "output_type": "execute_result"
    }
   ],
   "source": [
    "gender.head(1)"
   ]
  },
  {
   "cell_type": "code",
   "execution_count": 103,
   "metadata": {},
   "outputs": [
    {
     "data": {
      "text/html": [
       "<div>\n",
       "<style scoped>\n",
       "    .dataframe tbody tr th:only-of-type {\n",
       "        vertical-align: middle;\n",
       "    }\n",
       "\n",
       "    .dataframe tbody tr th {\n",
       "        vertical-align: top;\n",
       "    }\n",
       "\n",
       "    .dataframe thead th {\n",
       "        text-align: right;\n",
       "    }\n",
       "</style>\n",
       "<table border=\"1\" class=\"dataframe\">\n",
       "  <thead>\n",
       "    <tr style=\"text-align: right;\">\n",
       "      <th>faixa_etaria</th>\n",
       "      <th>10 - 19</th>\n",
       "      <th>20 - 29</th>\n",
       "      <th>30 - 39</th>\n",
       "      <th>40 - 49</th>\n",
       "      <th>50 - 59</th>\n",
       "      <th>60 - 69</th>\n",
       "      <th>70 - 79</th>\n",
       "      <th>80 - 89</th>\n",
       "      <th>90 - 99</th>\n",
       "      <th>&lt; 9</th>\n",
       "      <th>&gt; 100</th>\n",
       "      <th>N/I</th>\n",
       "      <th>total</th>\n",
       "    </tr>\n",
       "  </thead>\n",
       "  <tbody>\n",
       "    <tr>\n",
       "      <th>total</th>\n",
       "      <td>239</td>\n",
       "      <td>1031</td>\n",
       "      <td>3249</td>\n",
       "      <td>6848</td>\n",
       "      <td>13259</td>\n",
       "      <td>22851</td>\n",
       "      <td>26126</td>\n",
       "      <td>21326</td>\n",
       "      <td>7256</td>\n",
       "      <td>433</td>\n",
       "      <td>429</td>\n",
       "      <td>241</td>\n",
       "      <td>103288</td>\n",
       "    </tr>\n",
       "  </tbody>\n",
       "</table>\n",
       "</div>"
      ],
      "text/plain": [
       "faixa_etaria  10 - 19  20 - 29  30 - 39  40 - 49  50 - 59  60 - 69  70 - 79  \\\n",
       "total             239     1031     3249     6848    13259    22851    26126   \n",
       "\n",
       "faixa_etaria  80 - 89  90 - 99  < 9  > 100  N/I   total  \n",
       "total           21326     7256  433    429  241  103288  "
      ]
     },
     "execution_count": 103,
     "metadata": {},
     "output_type": "execute_result"
    }
   ],
   "source": [
    "age.head(1)"
   ]
  },
  {
   "cell_type": "code",
   "execution_count": 127,
   "metadata": {},
   "outputs": [],
   "source": [
    "# upload all the data to postgresql\n",
    "datasets = {\n",
    "    'states': states,\n",
    "    'age': age,\n",
    "    'gender': gender,\n",
    "    'places': places,\n",
    "    'diseases': diseases\n",
    "}\n",
    "postgres_credentials = \"postgres_credentials\"\n",
    "from sqlalchemy import engine\n",
    "engine = engine.create_engine(postgres_credentials)"
   ]
  },
  {
   "cell_type": "code",
   "execution_count": 116,
   "metadata": {
    "scrolled": true
   },
   "outputs": [
    {
     "name": "stdout",
     "output_type": "stream",
     "text": [
      "Sending Table age\n",
      "Sending Table diseases\n",
      "Sending Table states\n",
      "Sending Table gender\n",
      "Sending Table places\n"
     ]
    }
   ],
   "source": [
    "# upload\n",
    "for table_name, dataset in datasets.items():\n",
    "    print('Sending Table %s' % table_name)\n",
    "#     dataset.to_sql(table_name, engine)"
   ]
  },
  {
   "cell_type": "code",
   "execution_count": null,
   "metadata": {},
   "outputs": [],
   "source": []
  }
 ],
 "metadata": {
  "kernelspec": {
   "display_name": "Python 3",
   "language": "python",
   "name": "python3"
  },
  "language_info": {
   "codemirror_mode": {
    "name": "ipython",
    "version": 3
   },
   "file_extension": ".py",
   "mimetype": "text/x-python",
   "name": "python",
   "nbconvert_exporter": "python",
   "pygments_lexer": "ipython3",
   "version": "3.5.2"
  }
 },
 "nbformat": 4,
 "nbformat_minor": 4
}
